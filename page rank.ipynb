{
 "cells": [
  {
   "cell_type": "code",
   "execution_count": null,
   "metadata": {
    "executionInfo": {
     "elapsed": 714,
     "status": "ok",
     "timestamp": 1730554640423,
     "user": {
      "displayName": "Akash Pandit",
      "userId": "02768261328260665169"
     },
     "user_tz": -330
    },
    "id": "RUR6CEFHFxMt"
   },
   "outputs": [],
   "source": [
    "import requests\n",
    "from bs4 import BeautifulSoup"
   ]
  },
  {
   "cell_type": "code",
   "execution_count": null,
   "metadata": {
    "executionInfo": {
     "elapsed": 604,
     "status": "ok",
     "timestamp": 1730554655068,
     "user": {
      "displayName": "Akash Pandit",
      "userId": "02768261328260665169"
     },
     "user_tz": -330
    },
    "id": "KN4LHENZF7PV"
   },
   "outputs": [],
   "source": [
    "# Function to scrape links froma webpage\n",
    "def scrape_links(url):\n",
    "  try:\n",
    "    response = requests.get(url)\n",
    "    soup = BeautifulSoup(response.content, 'html.parser')\n",
    "    links = {a['href'] for a in soup.find_all('a', href=True)}\n",
    "    return links\n",
    "  except Exception as e:\n",
    "    print(f\"Failed to scrape {url}: {e}\")\n",
    "    return set()"
   ]
  },
  {
   "cell_type": "code",
   "execution_count": null,
   "metadata": {
    "executionInfo": {
     "elapsed": 616,
     "status": "ok",
     "timestamp": 1730554666793,
     "user": {
      "displayName": "Akash Pandit",
      "userId": "02768261328260665169"
     },
     "user_tz": -330
    },
    "id": "zqNSOwl1GE03"
   },
   "outputs": [],
   "source": [
    " websites = [\n",
    "    'https://myanimelist.net/', \n",
    "     'https://myanimelist.net/topanime.php', \n",
    "     'https://myanimelist.net/anime/season', \n",
    "     'https://wikipedia.org',\n",
    "     'https://github.com',\n",
    "     'https://leetcode.com'\n",
    " ]"
   ]
  },
  {
   "cell_type": "code",
   "execution_count": null,
   "metadata": {
    "executionInfo": {
     "elapsed": 603,
     "status": "ok",
     "timestamp": 1730554685685,
     "user": {
      "displayName": "Akash Pandit",
      "userId": "02768261328260665169"
     },
     "user_tz": -330
    },
    "id": "SdBtfLWvGJlG"
   },
   "outputs": [],
   "source": [
    "# Initialize variables for PageRank\n",
    "d = 0.85 # damping factor\n",
    "num_iterations = 100\n",
    "pagerank = {url: 1.0/ len(websites) for url in websites}\n",
    "print(pagerank)"
   ]
  },
  {
   "cell_type": "code",
   "execution_count": null,
   "metadata": {
    "executionInfo": {
     "elapsed": 4665,
     "status": "ok",
     "timestamp": 1730554697962,
     "user": {
      "displayName": "Akash Pandit",
      "userId": "02768261328260665169"
     },
     "user_tz": -330
    },
    "id": "0Lj_ScIkGMRq",
    "scrolled": true
   },
   "outputs": [],
   "source": [
    "# Createa mapping of links\n",
    "link_map = {url: scrape_links(url) for url in websites}"
   ]
  },
  {
   "cell_type": "code",
   "execution_count": null,
   "metadata": {
    "executionInfo": {
     "elapsed": 560,
     "status": "ok",
     "timestamp": 1730554834022,
     "user": {
      "displayName": "Akash Pandit",
      "userId": "02768261328260665169"
     },
     "user_tz": -330
    },
    "id": "yv5TeZilGQM3"
   },
   "outputs": [],
   "source": [
    "# Manual PageRank algorithm\n",
    "for _ in range(num_iterations):\n",
    "    new_pagerank = {}\n",
    "    for url in websites:\n",
    "        # Base rank distributed equally among all websites\n",
    "        new_rank = (1 - d) / len(websites)\n",
    "        \n",
    "        # Add contributions from all pages linking to the current page\n",
    "        for linking_url in link_map:\n",
    "            if url in link_map[linking_url]:  # If linking_url links to url\n",
    "                new_rank += d * (pagerank[linking_url] / len(link_map[linking_url]))\n",
    "        \n",
    "        # Store the computed rank for the current url\n",
    "        new_pagerank[url] = new_rank\n",
    "    \n",
    "    # Update pagerank with the new computed values for this iteration\n",
    "    pagerank = new_pagerank"
   ]
  },
  {
   "cell_type": "code",
   "execution_count": null,
   "metadata": {
    "colab": {
     "base_uri": "https://localhost:8080/"
    },
    "executionInfo": {
     "elapsed": 4,
     "status": "ok",
     "timestamp": 1730554880369,
     "user": {
      "displayName": "Akash Pandit",
      "userId": "02768261328260665169"
     },
     "user_tz": -330
    },
    "id": "BdMei991GeJN",
    "outputId": "3aa3f537-ca5c-4811-8635-d0aa8c5f7723"
   },
   "outputs": [],
   "source": [
    "# Display the PageRank values in sorted order\n",
    "print(\"PageRank using Manual Implementation (sorted):\")\n",
    "sorted_pagerank = sorted(pagerank.items(), key=lambda x: x[1], reverse=True)\n",
    "for url, rank in sorted_pagerank:\n",
    "  print(f\"{url}: {rank:.4f}\")"
   ]
  }
 ],
 "metadata": {
  "colab": {
   "authorship_tag": "ABX9TyNE7UK+77DA5Hqnm10rwcnH",
   "provenance": []
  },
  "kernelspec": {
   "display_name": "Python 3 (ipykernel)",
   "language": "python",
   "name": "python3"
  },
  "language_info": {
   "codemirror_mode": {
    "name": "ipython",
    "version": 3
   },
   "file_extension": ".py",
   "mimetype": "text/x-python",
   "name": "python",
   "nbconvert_exporter": "python",
   "pygments_lexer": "ipython3",
   "version": "3.12.1"
  }
 },
 "nbformat": 4,
 "nbformat_minor": 4
}
