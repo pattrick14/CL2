{
 "cells": [
  {
   "cell_type": "code",
   "execution_count": null,
   "id": "a1eb5c44-a6e8-45a2-aa56-dd7752337328",
   "metadata": {},
   "outputs": [],
   "source": [
    "'''\n",
    "Preprocessing a document, stop word removal, stemming\n",
    "'''"
   ]
  },
  {
   "cell_type": "code",
   "execution_count": null,
   "id": "b9ac5a08-8cc2-4338-a454-9af110188be5",
   "metadata": {},
   "outputs": [],
   "source": [
    "import string\n",
    "import nltk"
   ]
  },
  {
   "cell_type": "code",
   "execution_count": null,
   "id": "7a7d63b4-84fd-4d70-be34-6fd2d654cd94",
   "metadata": {},
   "outputs": [],
   "source": [
    "# nltk.download('wordnet')\n",
    "# nltk.download('wordnet')\n",
    "# nltk.download('punkt')\n"
   ]
  },
  {
   "cell_type": "code",
   "execution_count": null,
   "id": "4d0ed8f3-0d8c-4a87-91b1-0bcafac86962",
   "metadata": {},
   "outputs": [],
   "source": [
    "from nltk.corpus import stopwords\n",
    "from nltk.tokenize import word_tokenize\n",
    "from nltk.stem import PorterStemmer\n",
    "ps = PorterStemmer()"
   ]
  },
  {
   "cell_type": "code",
   "execution_count": null,
   "id": "90173f05-54ba-4c72-aa22-844a29fa5d6f",
   "metadata": {},
   "outputs": [],
   "source": [
   s = ""
     with open ("Information_Retrieval.txt") as file: 
    for line in file:
   s += line
    "s = '''Information retrieval (IR) in computing and information science is the task of identifying and retrieving information system resources\n",
    "that are relevant to an information need. The information need can be specified in the form of a search query. In the case of document\n",
    "retrieval, queries can be based on full-text or other content-based indexing. Information retrieval is the science of searching for inf\n",
    "ormation in a document, searching for documents themselves, and also searching for the metadata that describes data, and for databases\n",
    "of texts, images or sounds.'''\n"
   ]
  },
  {
   "cell_type": "code",
   "execution_count": null,
   "id": "ca4b873c-7f27-4b8e-8acf-e198409b18a3",
   "metadata": {},
   "outputs": [],
   "source": [
    "s"
   ]
  },
  {
   "cell_type": "code",
   "execution_count": null,
   "id": "a72573ab-2a72-4ab3-b8df-f7934415f253",
   "metadata": {},
   "outputs": [],
   "source": [
    "tokens = word_tokenize(s)"
   ]
  },
  {
   "cell_type": "code",
   "execution_count": null,
   "id": "c342af39-eda0-41a2-82a6-48fbaaeed1ec",
   "metadata": {},
   "outputs": [],
   "source": [
    "tokens"
   ]
  },
  {
   "cell_type": "code",
   "execution_count": null,
   "id": "f3027cb1-8958-4b19-876f-7626b26ac7ae",
   "metadata": {},
   "outputs": [],
   "source": [
    "def rem_punct(word_tokens):\n",
    "    return [word for word in tokens if word not in string.punctuation]\n",
    "\n",
    "cleaned = rem_punct(tokens)\n",
    "cleaned"
   ]
  },
  {
   "cell_type": "code",
   "execution_count": null,
   "id": "05747f4f-d8e9-4aa3-9f6d-489f87ded01c",
   "metadata": {},
   "outputs": [],
   "source": [
    "stop_words = stopwords.words('english')\n",
    "def rem_s_words(cleaned):\n",
    "    return [word for word in cleaned if word.lower() not in stop_words]\n",
    "\n",
    "removed = rem_s_words(cleaned)\n",
    "removed"
   ]
  },
  {
   "cell_type": "code",
   "execution_count": null,
   "id": "707d699f-2289-4bfc-929f-59e012d9fd4a",
   "metadata": {},
   "outputs": [],
   "source": [
    "def porter_stemming(removed):\n",
    "    return [ps.stem(stem) for stem in removed]\n",
    "\n",
    "stemmed = porter_stemming(removed)\n",
    "stemmed"
   ]
  },
  {
   "cell_type": "code",
   "execution_count": null,
   "id": "5a1ccf9c-32d6-4040-8f57-d7f7667a4e40",
   "metadata": {},
   "outputs": [],
   "source": []
  }
 ],
 "metadata": {
  "kernelspec": {
   "display_name": "Python 3 (ipykernel)",
   "language": "python",
   "name": "python3"
  },
  "language_info": {
   "codemirror_mode": {
    "name": "ipython",
    "version": 3
   },
   "file_extension": ".py",
   "mimetype": "text/x-python",
   "name": "python",
   "nbconvert_exporter": "python",
   "pygments_lexer": "ipython3",
   "version": "3.12.1"
  }
 },
 "nbformat": 4,
 "nbformat_minor": 5
}
