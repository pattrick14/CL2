{
 "cells": [
  {
   "cell_type": "code",
   "execution_count": null,
   "id": "72be8da2-8d9e-40f6-bdff-962052e0ac3a",
   "metadata": {},
   "outputs": [],
   "source": [
    "import numpy as np\n",
    "import pandas as pd\n",
    "import matplotlib.pyplot as plt"
   ]
  },
  {
   "cell_type": "code",
   "execution_count": null,
   "id": "370761a3-21f4-48f9-957f-74d453a15fde",
   "metadata": {},
   "outputs": [],
   "source": [
    "from sklearn.datasets import load_iris\n",
    "from sklearn.cluster import AgglomerativeClustering\n",
    "from sklearn.preprocessing import StandardScaler"
   ]
  },
  {
   "cell_type": "code",
   "execution_count": null,
   "id": "2acdcd0c-2e8b-49f5-8a6c-066a7da48100",
   "metadata": {},
   "outputs": [],
   "source": [
    "from scipy.cluster.hierarchy import dendrogram, linkage"
   ]
  },
  {
   "cell_type": "code",
   "execution_count": null,
   "id": "0cdb8f63-3e3e-4508-8b9c-04e32eaba9db",
   "metadata": {},
   "outputs": [],
   "source": [
    "iris = load_iris()\n",
    "data = iris.data\n",
    "target = iris.target\n",
    "iris_df=pd.DataFrame(data=iris.data, columns=iris.feature_names)\n",
    "iris_df"
   ]
  },
  {
   "cell_type": "code",
   "execution_count": null,
   "id": "c1851a08-9f20-440f-adfd-eb3218316470",
   "metadata": {},
   "outputs": [],
   "source": [
    "print(\"Data\", data)\n",
    "print(\"Target\", target)"
   ]
  },
  {
   "cell_type": "code",
   "execution_count": null,
   "id": "c2205464-fe84-40ea-91c9-716bc6336337",
   "metadata": {},
   "outputs": [],
   "source": [
    "scaler  = StandardScaler()\n",
    "scaled_data = scaler.fit_transform(data)"
   ]
  },
  {
   "cell_type": "code",
   "execution_count": null,
   "id": "0b96680f-4ea3-48cd-b934-4576be89e811",
   "metadata": {},
   "outputs": [],
   "source": [
    "linked = linkage(scaled_data, method='ward')\n",
    "linked"
   ]
  },
  {
   "cell_type": "code",
   "execution_count": null,
   "id": "dcb18eb0-5b97-46d7-bdc2-f0d0e50e3703",
   "metadata": {},
   "outputs": [],
   "source": [
    "plt.figure(figsize=(10, 8))\n",
    "dendrogram(linked, orientation='top', labels=iris.target_names[target], distance_sort='descending', show_leaf_counts=True)\n",
    "plt.title(\"Dendogram for Agglomerative Clustering\")\n",
    "plt.xlabel(\"Sample index/ Cluster Size\")\n",
    "plt.ylabel(\"Distance\")\n",
    "plt.show()"
   ]
  },
  {
   "cell_type": "code",
   "execution_count": null,
   "id": "d6ed9768-da0f-4e88-93e1-e9e400b207b9",
   "metadata": {},
   "outputs": [],
   "source": [
    "cluster = AgglomerativeClustering(n_clusters=3, metric='euclidean', linkage='ward')\n",
    "predicted_clusters = cluster.fit_predict(scaled_data)\n",
    "\n",
    "plt.figure(figsize=(10, 8))\n",
    "plt.scatter(scaled_data[:, 0], scaled_data[:, 1], c=predicted_clusters, cmap='rainbow')\n",
    "plt.title(\"Agglomerative Clustering Results\")\n",
    "plt.xlabel(\"Feature 1 (Standardized)\")\n",
    "plt.ylabel(\"Feature 2 (Standardized)\")\n",
    "plt.show()"
   ]
  }
 ],
 "metadata": {
  "kernelspec": {
   "display_name": "Python 3 (ipykernel)",
   "language": "python",
   "name": "python3"
  },
  "language_info": {
   "codemirror_mode": {
    "name": "ipython",
    "version": 3
   },
   "file_extension": ".py",
   "mimetype": "text/x-python",
   "name": "python",
   "nbconvert_exporter": "python",
   "pygments_lexer": "ipython3",
   "version": "3.12.1"
  }
 },
 "nbformat": 4,
 "nbformat_minor": 5
}
