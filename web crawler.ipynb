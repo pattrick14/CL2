{
 "cells": [
  {
   "cell_type": "code",
   "execution_count": null,
   "id": "8c4c19d6-571b-4784-8e4d-39a6fdd4174f",
   "metadata": {},
   "outputs": [],
   "source": [
    "import requests\n",
    "from bs4 import BeautifulSoup\n",
    "\n",
    "def crawl_website(url):\n",
    "    response = requests.get(url)\n",
    "    soup = BeautifulSoup(response.content, 'html.parser')\n",
    "\n",
    "    # Find all product links on the page\n",
    "    product_links = soup.find_all('a', href=True)\n",
    "\n",
    "    for link in product_links:\n",
    "        href = link['href']\n",
    "\n",
    "        # Filter for product links\n",
    "        if href.startswith('/products/') or href.startswith('/collections/'):\n",
    "            # Construct the full URL\n",
    "            full_url = f\"https://www.beyondsnack.in{href}\"\n",
    "\n",
    "            # Recursively crawl deeper if the depth is less than 2\n",
    "            if depth < 2:\n",
    "                crawl_website(full_url)\n",
    "\n",
    "            # Extract product name from the link text\n",
    "            product_name = link.text.strip()\n",
    "\n",
    "            print(f\"Product Name: {product_name}\")\n",
    "            print(f\"Product URL: {full_url}\")\n",
    "\n",
    "# Starting URL and depth\n",
    "url = \"https://www.beyondsnack.in/collections/all\"\n",
    "depth = 2\n",
    "\n",
    "crawl_website(url)"
   ]
  }
 ],
 "metadata": {
  "kernelspec": {
   "display_name": "Python 3 (ipykernel)",
   "language": "python",
   "name": "python3"
  },
  "language_info": {
   "codemirror_mode": {
    "name": "ipython",
    "version": 3
   },
   "file_extension": ".py",
   "mimetype": "text/x-python",
   "name": "python",
   "nbconvert_exporter": "python",
   "pygments_lexer": "ipython3",
   "version": "3.12.1"
  }
 },
 "nbformat": 4,
 "nbformat_minor": 5
}
