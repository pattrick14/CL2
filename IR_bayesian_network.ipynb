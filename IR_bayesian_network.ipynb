{
 "cells": [
  {
   "cell_type": "code",
   "execution_count": null,
   "metadata": {
    "id": "bM2CLjbF1aYx"
   },
   "outputs": [],
   "source": [
    "# pip install pgmpy"
   ]
  },
  {
   "cell_type": "code",
   "execution_count": null,
   "metadata": {
    "id": "cljHDtB_Z55x"
   },
   "outputs": [],
   "source": [
    "import pandas as pd"
   ]
  },
  {
   "cell_type": "code",
   "execution_count": null,
   "metadata": {
    "colab": {
     "base_uri": "https://localhost:8080/"
    },
    "id": "PjgWTp0faF_I",
    "outputId": "f735c084-dc9e-444e-9b78-28537ae6103f"
   },
   "outputs": [],
   "source": [
    "heart = pd.read_csv(\"heart.csv\")\n",
    "heart.shape"
   ]
  },
  {
   "cell_type": "code",
   "execution_count": null,
   "metadata": {
    "colab": {
     "base_uri": "https://localhost:8080/",
     "height": 206
    },
    "id": "i1o7yUScaPby",
    "outputId": "cf26ad18-9284-4975-f65e-753bf89eafeb"
   },
   "outputs": [],
   "source": [
    "heart.sample(5)"
   ]
  },
  {
   "cell_type": "code",
   "execution_count": null,
   "metadata": {
    "id": "6EFRKcc9aRba"
   },
   "outputs": [],
   "source": [
    "from pgmpy.models import BayesianNetwork\n",
    "from pgmpy.estimators import MaximumLikelihoodEstimator\n",
    "from pgmpy.inference import VariableElimination"
   ]
  },
  {
   "cell_type": "code",
   "execution_count": null,
   "metadata": {
    "colab": {
     "base_uri": "https://localhost:8080/"
    },
    "id": "M4TAaE27acLU",
    "outputId": "f25731e8-8211-470a-b977-d73ac039880b"
   },
   "outputs": [],
   "source": [
    "heart.info()"
   ]
  },
  {
   "cell_type": "code",
   "execution_count": null,
   "metadata": {
    "colab": {
     "base_uri": "https://localhost:8080/",
     "height": 523
    },
    "id": "NAkAGfzRaehz",
    "outputId": "aa0948fd-4041-404b-ee8a-285649564a01"
   },
   "outputs": [],
   "source": [
    "heart.isnull().sum()"
   ]
  },
  {
   "cell_type": "code",
   "execution_count": null,
   "metadata": {
    "id": "lqlnFIqAai8t"
   },
   "outputs": [],
   "source": [
    "heart['age']=pd.cut(heart['age'], bins=3, labels=['Young', 'Middle', 'Old'])\n",
    "heart['chol'] = pd.cut(heart['chol'], bins=3, labels=['Low',' Normal','High'])"
   ]
  },
  {
   "cell_type": "code",
   "execution_count": null,
   "metadata": {
    "colab": {
     "base_uri": "https://localhost:8080/",
     "height": 206
    },
    "id": "Q-rtifu7a9iH",
    "outputId": "b8902573-6f55-44db-81fa-0005ab79a4e1"
   },
   "outputs": [],
   "source": [
    "heart.sample(5)"
   ]
  },
  {
   "cell_type": "code",
   "execution_count": null,
   "metadata": {
    "id": "jrqAY7wpbAQP"
   },
   "outputs": [],
   "source": [
    "model = BayesianNetwork([('age', 'target'),\n",
    "                         ('chol', 'target'),\n",
    "                         ('cp', 'target'),\n",
    "                         ('target', 'thalach')])"
   ]
  },
  {
   "cell_type": "code",
   "execution_count": null,
   "metadata": {
    "colab": {
     "base_uri": "https://localhost:8080/"
    },
    "id": "fm-srqWsbPtY",
    "outputId": "a63fd5df-2c4a-4a8f-ca12-decadbd5a873"
   },
   "outputs": [],
   "source": [
    "model.edges()"
   ]
  },
  {
   "cell_type": "code",
   "execution_count": null,
   "metadata": {
    "id": "w-SwBNQDbQqZ"
   },
   "outputs": [],
   "source": [
    "model.fit(heart, estimator=MaximumLikelihoodEstimator)"
   ]
  },
  {
   "cell_type": "code",
   "execution_count": null,
   "metadata": {
    "id": "caBMydP2bW2C"
   },
   "outputs": [],
   "source": [
    "infer = VariableElimination(model)"
   ]
  },
  {
   "cell_type": "code",
   "execution_count": null,
   "metadata": {
    "colab": {
     "base_uri": "https://localhost:8080/"
    },
    "id": "9ndRo3BvbZsa",
    "outputId": "bd3c08ed-ec47-4308-e634-fe592806132b"
   },
   "outputs": [],
   "source": [
    "result = infer.query(variables=['target'], evidence={'age':'Old', 'chol':'High'})\n",
    "print(result)"
   ]
  },
  {
   "cell_type": "code",
   "execution_count": null,
   "metadata": {
    "colab": {
     "base_uri": "https://localhost:8080/"
    },
    "id": "3lJLigoTboel",
    "outputId": "3951ecd1-2918-4b6d-e767-b41d8a22e4ae"
   },
   "outputs": [],
   "source": [
    "result2 = infer.query(variables=['target'], evidence={'age':'Middle',\n",
    "                                                      'chol':'Low',\n",
    "                                                      'cp':2})\n",
    "print(result2)"
   ]
  }
 ],
 "metadata": {
  "colab": {
   "provenance": []
  },
  "kernelspec": {
   "display_name": "Python 3",
   "name": "python3"
  },
  "language_info": {
   "name": "python"
  }
 },
 "nbformat": 4,
 "nbformat_minor": 0
}
