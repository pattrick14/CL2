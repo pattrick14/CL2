{
 "cells": [
  {
   "cell_type": "code",
   "execution_count": null,
   "metadata": {},
   "outputs": [],
   "source": [
    "import pandas as pd"
   ]
  },
  {
   "cell_type": "code",
   "execution_count": null,
   "metadata": {},
   "outputs": [],
   "source": [
    "metabric_df = pd.read_csv(\"./METABRIC_RNA_Mutation.csv\")"
   ]
  },
  {
   "cell_type": "code",
   "execution_count": null,
   "metadata": {},
   "outputs": [],
   "source": [
    "metabric_df.shape"
   ]
  },
  {
   "cell_type": "code",
   "execution_count": null,
   "metadata": {},
   "outputs": [],
   "source": [
    "metabric_df.info(verbose=True)"
   ]
  },
  {
   "cell_type": "code",
   "execution_count": null,
   "metadata": {},
   "outputs": [],
   "source": [
    "metabric_df.sample(5)"
   ]
  },
  {
   "cell_type": "code",
   "execution_count": null,
   "metadata": {},
   "outputs": [],
   "source": [
    "metabric_df = metabric_df.set_index('patient_id')"
   ]
  },
  {
   "cell_type": "code",
   "execution_count": null,
   "metadata": {},
   "outputs": [],
   "source": [
    "df_expression = metabric_df.iloc[:, 30:519].join(metabric_df['overall_survival'], how='inner')"
   ]
  },
  {
   "cell_type": "code",
   "execution_count": null,
   "metadata": {},
   "outputs": [],
   "source": [
    "df_expression"
   ]
  },
  {
   "cell_type": "code",
   "execution_count": null,
   "metadata": {},
   "outputs": [],
   "source": [
    "import matplotlib.pyplot as plt\n",
    "import seaborn as sns\n",
    "from sklearn.model_selection import train_test_split\n",
    "from sklearn.metrics import (\n",
    "    classification_report, confusion_matrix, roc_auc_score, accuracy_score, f1_score\n",
    ")\n",
    "from sklearn.preprocessing import LabelEncoder\n",
    "from sklearn.ensemble import RandomForestClassifier\n",
    "from sklearn.svm import SVC"
   ]
  },
  {
   "cell_type": "code",
   "execution_count": null,
   "metadata": {},
   "outputs": [],
   "source": [
    "# Dictionary to store F1 and accuracy scores of each model\n",
    "metrics_summary = {\"Model\": [], \"F1 Score\": [], \"Accuracy\": []}"
   ]
  },
  {
   "cell_type": "code",
   "execution_count": null,
   "metadata": {},
   "outputs": [],
   "source": [
    "# Function to evaluate and display results\n",
    "\n",
    "def evaluate_model(model, X_train, X_test, y_train, y_test, model_name):\n",
    "    model.fit(X_train, y_train)\n",
    "\n",
    "    # Predictions and probabilities (if applicable)\n",
    "    y_pred = model.predict(X_test)\n",
    "    y_proba = model.predict_proba(X_test)[:, 1] if hasattr(\n",
    "        model, 'predict_proba') else None\n",
    "\n",
    "    # Calculate metrics\n",
    "    f1 = f1_score(y_test, y_pred, average='weighted')\n",
    "    accuracy = accuracy_score(y_test, y_pred)\n",
    "\n",
    "    # Store the metrics\n",
    "    metrics_summary[\"Model\"].append(model_name)\n",
    "    metrics_summary[\"F1 Score\"].append(f1)\n",
    "    metrics_summary[\"Accuracy\"].append(accuracy)\n",
    "\n",
    "    # Display classification metrics\n",
    "    print(f\"\\n=== {model_name} ===\")\n",
    "    print(\"Classification Report:\\n\", classification_report(y_test, y_pred))\n",
    "    print(f\"Accuracy: {accuracy:.4f}\")\n",
    "    print(f\"F1 Score: {f1:.4f}\")\n",
    "\n",
    "    # Confusion Matrix Visualization\n",
    "    cm = confusion_matrix(y_test, y_pred)\n",
    "    plt.figure(figsize=(6, 4))\n",
    "    sns.heatmap(cm, annot=True, fmt='d', cmap='Blues', xticklabels=[\n",
    "                'Pred 0', 'Pred 1'], yticklabels=['True 0', 'True 1'])\n",
    "    plt.title(f'Confusion Matrix - {model_name}')\n",
    "    plt.xlabel('Predicted Label')\n",
    "    plt.ylabel('True Label')\n",
    "    plt.show()\n",
    "\n",
    "    # AUC-ROC Score (if applicable)\n",
    "    if y_proba is not None:\n",
    "        print(f\"AUC-ROC Score: {roc_auc_score(y_test, y_proba):.4f}\")"
   ]
  },
  {
   "cell_type": "code",
   "execution_count": null,
   "metadata": {},
   "outputs": [],
   "source": [
    "# Main function to process the dataset and evaluate models\n",
    "\n",
    "\n",
    "def main(df, target_column):\n",
    "    # Prepare the dataset\n",
    "    X = df.drop(target_column, axis=1)\n",
    "    y = df[target_column]\n",
    "\n",
    "    # Handle categorical variables\n",
    "    X = pd.get_dummies(X, drop_first=True)\n",
    "    if y.dtype == 'object':\n",
    "        y = LabelEncoder().fit_transform(y)\n",
    "\n",
    "    # Split the dataset \n",
    "    X_train, X_test, y_train, y_test = train_test_split(\n",
    "        X, y, test_size=0.3, random_state=42)\n",
    "\n",
    "    # Define classifiers to be evaluated\n",
    "    models = {\n",
    "        'Random Forest': RandomForestClassifier(),\n",
    "        'Support Vector Classifier': SVC(probability=True),\n",
    "    }\n",
    "\n",
    "    # Train and evaluate all models\n",
    "    for name, model in models.items():\n",
    "        evaluate_model(model, X_train, X_test, y_train, y_test, name)\n",
    "\n",
    "    # Plot F1 Scores of all models\n",
    "    plt.figure(figsize=(10, 5))\n",
    "    sns.barplot(x=metrics_summary[\"Model\"],\n",
    "                y=metrics_summary[\"F1 Score\"], palette='coolwarm')\n",
    "    plt.xticks(rotation=45)\n",
    "    plt.title('F1 Scores of All Models')\n",
    "    plt.ylabel('F1 Score')\n",
    "    plt.show()\n",
    "\n",
    "    # Plot Accuracy Scores of all models\n",
    "    plt.figure(figsize=(10, 5))\n",
    "    sns.barplot(x=metrics_summary[\"Model\"],\n",
    "                y=metrics_summary[\"Accuracy\"], palette='coolwarm')\n",
    "    plt.xticks(rotation=45)\n",
    "    plt.title('Accuracy Scores of All Models')\n",
    "    plt.ylabel('Accuracy')\n",
    "    plt.show()"
   ]
  },
  {
   "cell_type": "code",
   "execution_count": null,
   "metadata": {},
   "outputs": [],
   "source": [
    "# Load your dataset and specify the target column\n",
    "if __name__ == \"__main__\":\n",
    "    # Replace with your dataframe\n",
    "    df = df_expression  # Example input dataframe\n",
    "    target_column = 'overall_survival'  # Replace with the actual target column name\n",
    "    main(df, target_column)"
   ]
  }
 ],
 "metadata": {
  "kernelspec": {
   "display_name": "Python 3 (ipykernel)",
   "language": "python",
   "name": "python3"
  },
  "language_info": {
   "codemirror_mode": {
    "name": "ipython",
    "version": 3
   },
   "file_extension": ".py",
   "mimetype": "text/x-python",
   "name": "python",
   "nbconvert_exporter": "python",
   "pygments_lexer": "ipython3",
   "version": "3.12.1"
  }
 },
 "nbformat": 4,
 "nbformat_minor": 4
}
